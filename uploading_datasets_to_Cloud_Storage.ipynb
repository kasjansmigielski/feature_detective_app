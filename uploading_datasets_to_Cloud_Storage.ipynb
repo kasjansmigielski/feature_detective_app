{
 "cells": [
  {
   "cell_type": "markdown",
   "metadata": {},
   "source": [
    "### 1. Połączenie z Digital Ocean Spaces"
   ]
  },
  {
   "cell_type": "code",
   "execution_count": null,
   "metadata": {},
   "outputs": [],
   "source": [
    "# potrzebne biblioteki do pracy z Cloud Storage\n",
    "from dotenv import load_dotenv\n",
    "import boto3\n",
    "import os\n",
    "import pandas as pd\n",
    "from pycaret.datasets import get_data \n",
    "\n",
    "# wczytanie zmiennych środowiskowych\n",
    "load_dotenv()\n",
    "\n",
    "# nawiązanie połączenia z Digital Ocean Spaces\n",
    "session = boto3.session.Session()\n",
    "client = session.client(\n",
    "    \"s3\",\n",
    "    #aws_access_key_id=os.getenv(\"AWS_ACCESS_KEY_ID\"),\n",
    "    #aws_secret_access_key=os.getenv(\"AWS_SECRET_ACCESS_KEY\"),\n",
    "    #endpoint_url=os.getenv(\"AWS_ENDPOINT_URL_S3\")\n",
    ")"
   ]
  },
  {
   "cell_type": "code",
   "execution_count": null,
   "metadata": {},
   "outputs": [],
   "source": [
    "BUCKET_NAME = \"the-most-important-variables\""
   ]
  },
  {
   "cell_type": "markdown",
   "metadata": {},
   "source": [
    "### 2. Wygenerowanie datasetów"
   ]
  },
  {
   "cell_type": "code",
   "execution_count": null,
   "metadata": {},
   "outputs": [],
   "source": [
    "dataset_df = get_data('index', verbose=False)\n",
    "# filtruję tylko te datasety związane z regresją lub klasyfikacją\n",
    "filtered_df = dataset_df[dataset_df['Default Task'].isin(['Classification (Binary)',\n",
    "'Regression', 'Classification (Multiclass)'])]\n",
    "# tworzę listę nazw wyfiltrowanych datasetów\n",
    "datasets_list = filtered_df['Dataset'].tolist()\n",
    "#datasets_list"
   ]
  },
  {
   "cell_type": "code",
   "execution_count": 19,
   "metadata": {},
   "outputs": [
    {
     "data": {
      "text/plain": [
       "['bank',\n",
       " 'blood',\n",
       " 'cancer',\n",
       " 'credit',\n",
       " 'diabetes',\n",
       " 'electrical_grid',\n",
       " 'employee',\n",
       " 'heart',\n",
       " 'heart_disease',\n",
       " 'hepatitis',\n",
       " 'income',\n",
       " 'juice',\n",
       " 'nba',\n",
       " 'wine',\n",
       " 'telescope',\n",
       " 'titanic',\n",
       " 'us_presidential_election_results',\n",
       " 'glass',\n",
       " 'iris',\n",
       " 'poker',\n",
       " 'questions',\n",
       " 'satellite',\n",
       " 'CTG',\n",
       " 'automobile',\n",
       " 'bike',\n",
       " 'boston',\n",
       " 'concrete',\n",
       " 'diamond',\n",
       " 'energy',\n",
       " 'forest',\n",
       " 'gold',\n",
       " 'house',\n",
       " 'insurance',\n",
       " 'parkinsons',\n",
       " 'traffic']"
      ]
     },
     "execution_count": 19,
     "metadata": {},
     "output_type": "execute_result"
    }
   ],
   "source": [
    "datasets_list"
   ]
  },
  {
   "cell_type": "markdown",
   "metadata": {},
   "source": [
    "### 3. Wysłanie wyfiltrowanych datasetów do Digital Ocean Spaces"
   ]
  },
  {
   "cell_type": "code",
   "execution_count": null,
   "metadata": {},
   "outputs": [],
   "source": [
    "folder_name = 'datasets/' \n",
    "\n",
    "for dataset_name in datasets_list:\n",
    "    \n",
    "    ready_df = get_data(dataset_name)\n",
    "    \n",
    "    if not ready_df.empty:\n",
    "        csv_data = ready_df.to_csv(index = False)\n",
    "\n",
    "        client.put_object(Bucket=BUCKET_NAME, Key=f'{folder_name}{dataset_name}.csv', Body=csv_data)\n",
    "        print(f'Uploaded {dataset_name}.csv to Digital Ocean Spaces')        "
   ]
  },
  {
   "cell_type": "markdown",
   "metadata": {},
   "source": [
    "### Wczytanie datasetów z Digital Ocean Spaces do DataFrame"
   ]
  },
  {
   "cell_type": "code",
   "execution_count": null,
   "metadata": {},
   "outputs": [],
   "source": [
    "# wczytuję przykładowy dataset o dokładnej nazwie\n",
    "df = pd.read_csv(f's3://{BUCKET_NAME}/{folder_name}titanic.csv', sep=',')\n",
    "df.head()"
   ]
  }
 ],
 "metadata": {
  "kernelspec": {
   "display_name": "Python 3 (ipykernel)",
   "language": "python",
   "name": "python3"
  },
  "language_info": {
   "codemirror_mode": {
    "name": "ipython",
    "version": 3
   },
   "file_extension": ".py",
   "mimetype": "text/x-python",
   "name": "python",
   "nbconvert_exporter": "python",
   "pygments_lexer": "ipython3",
   "version": "3.11.9"
  }
 },
 "nbformat": 4,
 "nbformat_minor": 4
}
